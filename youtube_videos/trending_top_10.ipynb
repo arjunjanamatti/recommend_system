{
 "cells": [
  {
   "cell_type": "code",
   "execution_count": 1,
   "metadata": {
    "ExecuteTime": {
     "end_time": "2021-03-30T10:36:35.810372Z",
     "start_time": "2021-03-30T10:36:32.189042Z"
    }
   },
   "outputs": [],
   "source": [
    "from sklearn.preprocessing import MinMaxScaler\n",
    "scaling = MinMaxScaler()\n",
    "import pandas as pd"
   ]
  },
  {
   "cell_type": "code",
   "execution_count": 2,
   "metadata": {
    "ExecuteTime": {
     "end_time": "2021-03-30T10:36:57.602431Z",
     "start_time": "2021-03-30T10:36:57.561069Z"
    }
   },
   "outputs": [
    {
     "data": {
      "text/html": [
       "<div>\n",
       "<style scoped>\n",
       "    .dataframe tbody tr th:only-of-type {\n",
       "        vertical-align: middle;\n",
       "    }\n",
       "\n",
       "    .dataframe tbody tr th {\n",
       "        vertical-align: top;\n",
       "    }\n",
       "\n",
       "    .dataframe thead th {\n",
       "        text-align: right;\n",
       "    }\n",
       "</style>\n",
       "<table border=\"1\" class=\"dataframe\">\n",
       "  <thead>\n",
       "    <tr style=\"text-align: right;\">\n",
       "      <th></th>\n",
       "      <th>model_name</th>\n",
       "      <th>Category</th>\n",
       "      <th>Views</th>\n",
       "      <th>Likes</th>\n",
       "      <th>Comments</th>\n",
       "    </tr>\n",
       "  </thead>\n",
       "  <tbody>\n",
       "    <tr>\n",
       "      <th>0</th>\n",
       "      <td>Huawei nova 8 5G</td>\n",
       "      <td>Mobile</td>\n",
       "      <td>243</td>\n",
       "      <td>814</td>\n",
       "      <td>406</td>\n",
       "    </tr>\n",
       "    <tr>\n",
       "      <th>1</th>\n",
       "      <td>Huawei nova 8 Pro 5G</td>\n",
       "      <td>Mobile</td>\n",
       "      <td>987</td>\n",
       "      <td>77</td>\n",
       "      <td>172</td>\n",
       "    </tr>\n",
       "    <tr>\n",
       "      <th>2</th>\n",
       "      <td>Honor V40</td>\n",
       "      <td>Mobile</td>\n",
       "      <td>272</td>\n",
       "      <td>969</td>\n",
       "      <td>198</td>\n",
       "    </tr>\n",
       "    <tr>\n",
       "      <th>3</th>\n",
       "      <td>Oppo Find X3 Neo</td>\n",
       "      <td>Mobile</td>\n",
       "      <td>568</td>\n",
       "      <td>144</td>\n",
       "      <td>552</td>\n",
       "    </tr>\n",
       "    <tr>\n",
       "      <th>4</th>\n",
       "      <td>Oppo Find X3</td>\n",
       "      <td>Mobile</td>\n",
       "      <td>677</td>\n",
       "      <td>932</td>\n",
       "      <td>305</td>\n",
       "    </tr>\n",
       "    <tr>\n",
       "      <th>...</th>\n",
       "      <td>...</td>\n",
       "      <td>...</td>\n",
       "      <td>...</td>\n",
       "      <td>...</td>\n",
       "      <td>...</td>\n",
       "    </tr>\n",
       "    <tr>\n",
       "      <th>220</th>\n",
       "      <td>Xiaomi Mi CC9 Pro</td>\n",
       "      <td>Mobile</td>\n",
       "      <td>543</td>\n",
       "      <td>57</td>\n",
       "      <td>801</td>\n",
       "    </tr>\n",
       "    <tr>\n",
       "      <th>221</th>\n",
       "      <td>ZTE Axon 10 Pro</td>\n",
       "      <td>Mobile</td>\n",
       "      <td>859</td>\n",
       "      <td>792</td>\n",
       "      <td>234</td>\n",
       "    </tr>\n",
       "    <tr>\n",
       "      <th>222</th>\n",
       "      <td>ZTE Nubia Red Magic 3</td>\n",
       "      <td>Mobile</td>\n",
       "      <td>973</td>\n",
       "      <td>283</td>\n",
       "      <td>47</td>\n",
       "    </tr>\n",
       "    <tr>\n",
       "      <th>223</th>\n",
       "      <td>ZTE Nubia Red Magic 3S</td>\n",
       "      <td>Mobile</td>\n",
       "      <td>275</td>\n",
       "      <td>592</td>\n",
       "      <td>907</td>\n",
       "    </tr>\n",
       "    <tr>\n",
       "      <th>224</th>\n",
       "      <td>ZTE Nubia Z20</td>\n",
       "      <td>Mobile</td>\n",
       "      <td>481</td>\n",
       "      <td>392</td>\n",
       "      <td>544</td>\n",
       "    </tr>\n",
       "  </tbody>\n",
       "</table>\n",
       "<p>225 rows × 5 columns</p>\n",
       "</div>"
      ],
      "text/plain": [
       "                 model_name Category  Views  Likes  Comments\n",
       "0          Huawei nova 8 5G   Mobile    243    814       406\n",
       "1      Huawei nova 8 Pro 5G   Mobile    987     77       172\n",
       "2                 Honor V40   Mobile    272    969       198\n",
       "3          Oppo Find X3 Neo   Mobile    568    144       552\n",
       "4              Oppo Find X3   Mobile    677    932       305\n",
       "..                      ...      ...    ...    ...       ...\n",
       "220       Xiaomi Mi CC9 Pro   Mobile    543     57       801\n",
       "221         ZTE Axon 10 Pro   Mobile    859    792       234\n",
       "222   ZTE Nubia Red Magic 3   Mobile    973    283        47\n",
       "223  ZTE Nubia Red Magic 3S   Mobile    275    592       907\n",
       "224           ZTE Nubia Z20   Mobile    481    392       544\n",
       "\n",
       "[225 rows x 5 columns]"
      ]
     },
     "execution_count": 2,
     "metadata": {},
     "output_type": "execute_result"
    }
   ],
   "source": [
    "mobile_df = pd.read_csv('mobile_data.csv')\n",
    "mobile_df"
   ]
  },
  {
   "cell_type": "code",
   "execution_count": 4,
   "metadata": {
    "ExecuteTime": {
     "end_time": "2021-03-30T10:37:57.437950Z",
     "start_time": "2021-03-30T10:37:57.399365Z"
    }
   },
   "outputs": [
    {
     "data": {
      "text/html": [
       "<div>\n",
       "<style scoped>\n",
       "    .dataframe tbody tr th:only-of-type {\n",
       "        vertical-align: middle;\n",
       "    }\n",
       "\n",
       "    .dataframe tbody tr th {\n",
       "        vertical-align: top;\n",
       "    }\n",
       "\n",
       "    .dataframe thead th {\n",
       "        text-align: right;\n",
       "    }\n",
       "</style>\n",
       "<table border=\"1\" class=\"dataframe\">\n",
       "  <thead>\n",
       "    <tr style=\"text-align: right;\">\n",
       "      <th></th>\n",
       "      <th>Views</th>\n",
       "      <th>Likes</th>\n",
       "      <th>Comments</th>\n",
       "    </tr>\n",
       "  </thead>\n",
       "  <tbody>\n",
       "    <tr>\n",
       "      <th>0</th>\n",
       "      <td>0.243461</td>\n",
       "      <td>0.824669</td>\n",
       "      <td>0.409602</td>\n",
       "    </tr>\n",
       "    <tr>\n",
       "      <th>1</th>\n",
       "      <td>0.991952</td>\n",
       "      <td>0.073394</td>\n",
       "      <td>0.170582</td>\n",
       "    </tr>\n",
       "    <tr>\n",
       "      <th>2</th>\n",
       "      <td>0.272636</td>\n",
       "      <td>0.982671</td>\n",
       "      <td>0.197140</td>\n",
       "    </tr>\n",
       "    <tr>\n",
       "      <th>3</th>\n",
       "      <td>0.570423</td>\n",
       "      <td>0.141692</td>\n",
       "      <td>0.558733</td>\n",
       "    </tr>\n",
       "    <tr>\n",
       "      <th>4</th>\n",
       "      <td>0.680080</td>\n",
       "      <td>0.944954</td>\n",
       "      <td>0.306435</td>\n",
       "    </tr>\n",
       "  </tbody>\n",
       "</table>\n",
       "</div>"
      ],
      "text/plain": [
       "      Views     Likes  Comments\n",
       "0  0.243461  0.824669  0.409602\n",
       "1  0.991952  0.073394  0.170582\n",
       "2  0.272636  0.982671  0.197140\n",
       "3  0.570423  0.141692  0.558733\n",
       "4  0.680080  0.944954  0.306435"
      ]
     },
     "execution_count": 4,
     "metadata": {},
     "output_type": "execute_result"
    }
   ],
   "source": [
    "df_scaled = scaling.fit_transform(X=mobile_df[['Views', 'Likes', 'Comments']])\n",
    "df_scaled = pd.DataFrame(df_scaled, columns = ['Views', 'Likes', 'Comments'])\n",
    "df_scaled.head()"
   ]
  },
  {
   "cell_type": "code",
   "execution_count": 5,
   "metadata": {
    "ExecuteTime": {
     "end_time": "2021-03-30T10:39:27.831344Z",
     "start_time": "2021-03-30T10:39:27.821791Z"
    }
   },
   "outputs": [],
   "source": [
    "mobile_df[['normalized_views', 'normalized_likes', 'normalized_comments']] = df_scaled"
   ]
  },
  {
   "cell_type": "code",
   "execution_count": null,
   "metadata": {},
   "outputs": [],
   "source": [
    "mobile_df['normalized_score'] = mobile_df['normalized_views']*0.33 + mobile_df['normalized_popularity']*0.5\n"
   ]
  }
 ],
 "metadata": {
  "kernelspec": {
   "display_name": "Python 3",
   "language": "python",
   "name": "python3"
  },
  "language_info": {
   "codemirror_mode": {
    "name": "ipython",
    "version": 3
   },
   "file_extension": ".py",
   "mimetype": "text/x-python",
   "name": "python",
   "nbconvert_exporter": "python",
   "pygments_lexer": "ipython3",
   "version": "3.6.10"
  },
  "varInspector": {
   "cols": {
    "lenName": 16,
    "lenType": 16,
    "lenVar": 40
   },
   "kernels_config": {
    "python": {
     "delete_cmd_postfix": "",
     "delete_cmd_prefix": "del ",
     "library": "var_list.py",
     "varRefreshCmd": "print(var_dic_list())"
    },
    "r": {
     "delete_cmd_postfix": ") ",
     "delete_cmd_prefix": "rm(",
     "library": "var_list.r",
     "varRefreshCmd": "cat(var_dic_list()) "
    }
   },
   "types_to_exclude": [
    "module",
    "function",
    "builtin_function_or_method",
    "instance",
    "_Feature"
   ],
   "window_display": false
  }
 },
 "nbformat": 4,
 "nbformat_minor": 4
}
