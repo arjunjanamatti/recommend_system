{
 "cells": [
  {
   "cell_type": "code",
   "execution_count": 6,
   "metadata": {
    "ExecuteTime": {
     "end_time": "2021-03-30T17:41:54.061116Z",
     "start_time": "2021-03-30T17:41:54.048726Z"
    }
   },
   "outputs": [],
   "source": [
    "import pandas as pd\n",
    "import re"
   ]
  },
  {
   "cell_type": "code",
   "execution_count": 4,
   "metadata": {
    "ExecuteTime": {
     "end_time": "2021-03-30T17:40:23.113746Z",
     "start_time": "2021-03-30T17:40:22.096816Z"
    }
   },
   "outputs": [],
   "source": [
    "excel_file = pd.ExcelFile('mobile_data.xlsx')\n",
    "\n",
    "# xl.sheet_names  # see all sheet names\n",
    "\n",
    "# xl.parse(sheet_name)  # read a specific sheet to DataFrame"
   ]
  },
  {
   "cell_type": "code",
   "execution_count": 5,
   "metadata": {
    "ExecuteTime": {
     "end_time": "2021-03-30T17:40:38.974702Z",
     "start_time": "2021-03-30T17:40:38.941840Z"
    }
   },
   "outputs": [
    {
     "data": {
      "text/plain": [
       "['Sheet1',\n",
       " 'Sheet2',\n",
       " 'Sheet3',\n",
       " 'Sheet4',\n",
       " 'Sheet5',\n",
       " 'Sheet6',\n",
       " 'Sheet7',\n",
       " 'Sheet8',\n",
       " 'Sheet9',\n",
       " 'Sheet10',\n",
       " 'Sheet11',\n",
       " 'Sheet12',\n",
       " 'Sheet13',\n",
       " 'Sheet14',\n",
       " 'Sheet15',\n",
       " 'Sheet16',\n",
       " 'Sheet17',\n",
       " 'Sheet18',\n",
       " 'Sheet19',\n",
       " 'Sheet20',\n",
       " 'Sheet21',\n",
       " 'Sheet22',\n",
       " 'Sheet23',\n",
       " 'Sheet24',\n",
       " 'Sheet25',\n",
       " 'Sheet26',\n",
       " 'Sheet27',\n",
       " 'Sheet28',\n",
       " 'Sheet29',\n",
       " 'Sheet30',\n",
       " 'Sheet31',\n",
       " 'Sheet32',\n",
       " 'Sheet33',\n",
       " 'Sheet34',\n",
       " 'Sheet35',\n",
       " 'Sheet36',\n",
       " 'Sheet37',\n",
       " 'Sheet38',\n",
       " 'Sheet39',\n",
       " 'Sheet40',\n",
       " 'Sheet41',\n",
       " 'Sheet42',\n",
       " 'Sheet43',\n",
       " 'Sheet44',\n",
       " 'Sheet45',\n",
       " 'Sheet46',\n",
       " 'Sheet47',\n",
       " 'Sheet48',\n",
       " 'Sheet49',\n",
       " 'Sheet50',\n",
       " 'Sheet51',\n",
       " 'Sheet52',\n",
       " 'Sheet53',\n",
       " 'Sheet54',\n",
       " 'Sheet55',\n",
       " 'Sheet56',\n",
       " 'Sheet57',\n",
       " 'Sheet58',\n",
       " 'Sheet59',\n",
       " 'Sheet60',\n",
       " 'Sheet61',\n",
       " 'Sheet62',\n",
       " 'Sheet63',\n",
       " 'Sheet64',\n",
       " 'Sheet65',\n",
       " 'Sheet66',\n",
       " 'Sheet67',\n",
       " 'Sheet68',\n",
       " 'Sheet69',\n",
       " 'Sheet70',\n",
       " 'Sheet71',\n",
       " 'Sheet72',\n",
       " 'Sheet73',\n",
       " 'Sheet74',\n",
       " 'Sheet75',\n",
       " 'Sheet76',\n",
       " 'Sheet77',\n",
       " 'Sheet78',\n",
       " 'Sheet79',\n",
       " 'Sheet80',\n",
       " 'Sheet81',\n",
       " 'Sheet82',\n",
       " 'Sheet83']"
      ]
     },
     "execution_count": 5,
     "metadata": {},
     "output_type": "execute_result"
    }
   ],
   "source": [
    "sheet_names = list(excel_file.sheet_names)\n",
    "sheet_names"
   ]
  },
  {
   "cell_type": "code",
   "execution_count": 8,
   "metadata": {
    "ExecuteTime": {
     "end_time": "2021-03-30T17:46:47.898926Z",
     "start_time": "2021-03-30T17:46:47.884022Z"
    }
   },
   "outputs": [],
   "source": [
    "user_id_list = []\n",
    "for sheet in sheet_names:\n",
    "    user_id_list.append(re.findall(\"\\d+\", sheet)[0])"
   ]
  },
  {
   "cell_type": "code",
   "execution_count": null,
   "metadata": {},
   "outputs": [],
   "source": []
  }
 ],
 "metadata": {
  "kernelspec": {
   "display_name": "Python 3",
   "language": "python",
   "name": "python3"
  },
  "language_info": {
   "codemirror_mode": {
    "name": "ipython",
    "version": 3
   },
   "file_extension": ".py",
   "mimetype": "text/x-python",
   "name": "python",
   "nbconvert_exporter": "python",
   "pygments_lexer": "ipython3",
   "version": "3.6.10"
  },
  "varInspector": {
   "cols": {
    "lenName": 16,
    "lenType": 16,
    "lenVar": 40
   },
   "kernels_config": {
    "python": {
     "delete_cmd_postfix": "",
     "delete_cmd_prefix": "del ",
     "library": "var_list.py",
     "varRefreshCmd": "print(var_dic_list())"
    },
    "r": {
     "delete_cmd_postfix": ") ",
     "delete_cmd_prefix": "rm(",
     "library": "var_list.r",
     "varRefreshCmd": "cat(var_dic_list()) "
    }
   },
   "types_to_exclude": [
    "module",
    "function",
    "builtin_function_or_method",
    "instance",
    "_Feature"
   ],
   "window_display": false
  }
 },
 "nbformat": 4,
 "nbformat_minor": 4
}
