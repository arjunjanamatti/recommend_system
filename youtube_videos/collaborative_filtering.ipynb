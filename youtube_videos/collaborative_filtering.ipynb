{
 "cells": [
  {
   "cell_type": "code",
   "execution_count": 1,
   "metadata": {
    "ExecuteTime": {
     "end_time": "2021-03-31T07:25:21.255940Z",
     "start_time": "2021-03-31T07:25:20.335298Z"
    }
   },
   "outputs": [
    {
     "name": "stderr",
     "output_type": "stream",
     "text": [
      "C:\\Users\\Arjun Janamatti\\Anaconda3\\envs\\tf_nptel\\lib\\site-packages\\numpy\\core\\__init__.py:29: UserWarning: loaded more than 1 DLL from .libs:\n",
      "C:\\Users\\Arjun Janamatti\\Anaconda3\\envs\\tf_nptel\\lib\\site-packages\\numpy\\.libs\\libopenblas.PYQHXLVVQ7VESDPUVUADXEVJOBGHJPAY.gfortran-win_amd64.dll\n",
      "C:\\Users\\Arjun Janamatti\\Anaconda3\\envs\\tf_nptel\\lib\\site-packages\\numpy\\.libs\\libopenblas.TXA6YQSD3GCQQC22GEQ54J2UDCXDXHWN.gfortran-win_amd64.dll\n",
      "  stacklevel=1)\n"
     ]
    }
   ],
   "source": [
    "import pandas as pd\n",
    "import numpy as np\n",
    "import re"
   ]
  },
  {
   "cell_type": "code",
   "execution_count": 2,
   "metadata": {
    "ExecuteTime": {
     "end_time": "2021-03-31T07:25:22.198023Z",
     "start_time": "2021-03-31T07:25:21.257068Z"
    }
   },
   "outputs": [],
   "source": [
    "excel_file = pd.ExcelFile('mobile_data.xlsx')"
   ]
  },
  {
   "cell_type": "code",
   "execution_count": 3,
   "metadata": {
    "ExecuteTime": {
     "end_time": "2021-03-31T07:25:22.213647Z",
     "start_time": "2021-03-31T07:25:22.200112Z"
    }
   },
   "outputs": [],
   "source": [
    "# get the list of all sheet names in excel sheet\n",
    "sheet_names = list(excel_file.sheet_names)"
   ]
  },
  {
   "cell_type": "code",
   "execution_count": 4,
   "metadata": {
    "ExecuteTime": {
     "end_time": "2021-03-31T07:25:22.229399Z",
     "start_time": "2021-03-31T07:25:22.215646Z"
    }
   },
   "outputs": [],
   "source": [
    "# get all the numbers in sheet name which will be used for user_id column\n",
    "user_id_list = []\n",
    "for sheet in sheet_names:\n",
    "    user_id_list.append(re.findall(\"\\d+\", sheet)[0])"
   ]
  },
  {
   "cell_type": "code",
   "execution_count": 5,
   "metadata": {
    "ExecuteTime": {
     "end_time": "2021-03-31T07:25:22.555995Z",
     "start_time": "2021-03-31T07:25:22.231278Z"
    }
   },
   "outputs": [],
   "source": [
    "# parsing all the sheets to a dictionary\n",
    "trial_dict = {}\n",
    "for sheet in sheet_names:\n",
    "    trial_dict[sheet] = excel_file.parse(sheet)"
   ]
  },
  {
   "cell_type": "code",
   "execution_count": 6,
   "metadata": {
    "ExecuteTime": {
     "end_time": "2021-03-31T07:25:22.921368Z",
     "start_time": "2021-03-31T07:25:22.555995Z"
    }
   },
   "outputs": [],
   "source": [
    "# shuffling the pandas dataframe\n",
    "for sheet in sheet_names:\n",
    "    trial_dict[sheet] = excel_file.parse(sheet).sample(frac=1).reset_index(drop=True)"
   ]
  },
  {
   "cell_type": "code",
   "execution_count": 7,
   "metadata": {
    "ExecuteTime": {
     "end_time": "2021-03-31T07:25:23.237702Z",
     "start_time": "2021-03-31T07:25:22.922778Z"
    }
   },
   "outputs": [],
   "source": [
    "# selecting only half of the dataframes in each sheet, so that there is some randomness\n",
    "for sheet in sheet_names:\n",
    "    trial_dict[sheet] = excel_file.parse(sheet)[:150]"
   ]
  },
  {
   "cell_type": "code",
   "execution_count": 8,
   "metadata": {
    "ExecuteTime": {
     "end_time": "2021-03-31T07:25:23.309141Z",
     "start_time": "2021-03-31T07:25:23.241715Z"
    }
   },
   "outputs": [],
   "source": [
    "# adding user_id column for each dataframe\n",
    "for index, sheet in enumerate(sheet_names):\n",
    "    trial_dict[sheet]['user_id'] = np.repeat(a=np.array([user_id_list[index]]), repeats=len(trial_dict[sheet]))"
   ]
  },
  {
   "cell_type": "code",
   "execution_count": 9,
   "metadata": {
    "ExecuteTime": {
     "end_time": "2021-03-31T07:25:23.388142Z",
     "start_time": "2021-03-31T07:25:23.309141Z"
    }
   },
   "outputs": [
    {
     "data": {
      "text/html": [
       "<div>\n",
       "<style scoped>\n",
       "    .dataframe tbody tr th:only-of-type {\n",
       "        vertical-align: middle;\n",
       "    }\n",
       "\n",
       "    .dataframe tbody tr th {\n",
       "        vertical-align: top;\n",
       "    }\n",
       "\n",
       "    .dataframe thead th {\n",
       "        text-align: right;\n",
       "    }\n",
       "</style>\n",
       "<table border=\"1\" class=\"dataframe\">\n",
       "  <thead>\n",
       "    <tr style=\"text-align: right;\">\n",
       "      <th></th>\n",
       "      <th>model_name</th>\n",
       "      <th>Category</th>\n",
       "      <th>Views</th>\n",
       "      <th>Likes</th>\n",
       "      <th>Comments</th>\n",
       "      <th>user_id</th>\n",
       "    </tr>\n",
       "  </thead>\n",
       "  <tbody>\n",
       "    <tr>\n",
       "      <th>0</th>\n",
       "      <td>Huawei nova 8 5G</td>\n",
       "      <td>Mobile</td>\n",
       "      <td>418</td>\n",
       "      <td>117</td>\n",
       "      <td>853</td>\n",
       "      <td>1</td>\n",
       "    </tr>\n",
       "    <tr>\n",
       "      <th>1</th>\n",
       "      <td>Huawei nova 8 Pro 5G</td>\n",
       "      <td>Mobile</td>\n",
       "      <td>262</td>\n",
       "      <td>277</td>\n",
       "      <td>248</td>\n",
       "      <td>1</td>\n",
       "    </tr>\n",
       "    <tr>\n",
       "      <th>2</th>\n",
       "      <td>Honor V40</td>\n",
       "      <td>Mobile</td>\n",
       "      <td>434</td>\n",
       "      <td>767</td>\n",
       "      <td>289</td>\n",
       "      <td>1</td>\n",
       "    </tr>\n",
       "    <tr>\n",
       "      <th>3</th>\n",
       "      <td>Oppo Find X3 Neo</td>\n",
       "      <td>Mobile</td>\n",
       "      <td>255</td>\n",
       "      <td>507</td>\n",
       "      <td>161</td>\n",
       "      <td>1</td>\n",
       "    </tr>\n",
       "    <tr>\n",
       "      <th>4</th>\n",
       "      <td>Oppo Find X3</td>\n",
       "      <td>Mobile</td>\n",
       "      <td>700</td>\n",
       "      <td>441</td>\n",
       "      <td>921</td>\n",
       "      <td>1</td>\n",
       "    </tr>\n",
       "    <tr>\n",
       "      <th>...</th>\n",
       "      <td>...</td>\n",
       "      <td>...</td>\n",
       "      <td>...</td>\n",
       "      <td>...</td>\n",
       "      <td>...</td>\n",
       "      <td>...</td>\n",
       "    </tr>\n",
       "    <tr>\n",
       "      <th>145</th>\n",
       "      <td>Huawei Mate 30</td>\n",
       "      <td>Mobile</td>\n",
       "      <td>113</td>\n",
       "      <td>182</td>\n",
       "      <td>191</td>\n",
       "      <td>83</td>\n",
       "    </tr>\n",
       "    <tr>\n",
       "      <th>146</th>\n",
       "      <td>Huawei Mate 30 Pro</td>\n",
       "      <td>Mobile</td>\n",
       "      <td>922</td>\n",
       "      <td>161</td>\n",
       "      <td>157</td>\n",
       "      <td>83</td>\n",
       "    </tr>\n",
       "    <tr>\n",
       "      <th>147</th>\n",
       "      <td>HuaweiÂ Nova 5</td>\n",
       "      <td>Mobile</td>\n",
       "      <td>526</td>\n",
       "      <td>565</td>\n",
       "      <td>613</td>\n",
       "      <td>83</td>\n",
       "    </tr>\n",
       "    <tr>\n",
       "      <th>148</th>\n",
       "      <td>HuaweiÂ Nova 5 Pro</td>\n",
       "      <td>Mobile</td>\n",
       "      <td>529</td>\n",
       "      <td>866</td>\n",
       "      <td>654</td>\n",
       "      <td>83</td>\n",
       "    </tr>\n",
       "    <tr>\n",
       "      <th>149</th>\n",
       "      <td>HuaweiÂ Nova 5i Pro</td>\n",
       "      <td>Mobile</td>\n",
       "      <td>476</td>\n",
       "      <td>643</td>\n",
       "      <td>170</td>\n",
       "      <td>83</td>\n",
       "    </tr>\n",
       "  </tbody>\n",
       "</table>\n",
       "<p>12450 rows × 6 columns</p>\n",
       "</div>"
      ],
      "text/plain": [
       "               model_name Category  Views  Likes  Comments user_id\n",
       "0        Huawei nova 8 5G   Mobile    418    117       853       1\n",
       "1    Huawei nova 8 Pro 5G   Mobile    262    277       248       1\n",
       "2               Honor V40   Mobile    434    767       289       1\n",
       "3        Oppo Find X3 Neo   Mobile    255    507       161       1\n",
       "4            Oppo Find X3   Mobile    700    441       921       1\n",
       "..                    ...      ...    ...    ...       ...     ...\n",
       "145        Huawei Mate 30   Mobile    113    182       191      83\n",
       "146    Huawei Mate 30 Pro   Mobile    922    161       157      83\n",
       "147        HuaweiÂ Nova 5   Mobile    526    565       613      83\n",
       "148    HuaweiÂ Nova 5 Pro   Mobile    529    866       654      83\n",
       "149   HuaweiÂ Nova 5i Pro   Mobile    476    643       170      83\n",
       "\n",
       "[12450 rows x 6 columns]"
      ]
     },
     "execution_count": 9,
     "metadata": {},
     "output_type": "execute_result"
    }
   ],
   "source": [
    "# combined_df = pd.concat([pd.concat(v) for k,v in trial_dict.items()])\n",
    "combined_df = pd.concat([v for k, v in trial_dict.items()], axis=0)\n",
    "combined_df"
   ]
  },
  {
   "cell_type": "code",
   "execution_count": 10,
   "metadata": {
    "ExecuteTime": {
     "end_time": "2021-03-31T07:29:28.391269Z",
     "start_time": "2021-03-31T07:29:28.361044Z"
    }
   },
   "outputs": [],
   "source": [
    "combined_df.to_pickle('mobilecombined_df.pickle')"
   ]
  },
  {
   "cell_type": "code",
   "execution_count": 13,
   "metadata": {
    "ExecuteTime": {
     "end_time": "2021-03-31T07:33:13.919380Z",
     "start_time": "2021-03-31T07:33:13.900752Z"
    }
   },
   "outputs": [],
   "source": [
    "def get_combined_df(pkl_file, excel_file):\n",
    "    try:\n",
    "        combined_df = pd.read_pickle(pkl_file)\n",
    "    except:\n",
    "        excel_file = pd.ExcelFile(excel_file)\n",
    "        # get the list of all sheet names in excel sheet\n",
    "        sheet_names = list(excel_file.sheet_names)\n",
    "        # get all the numbers in sheet name which will be used for user_id column\n",
    "        user_id_list = []\n",
    "        for sheet in sheet_names:\n",
    "            user_id_list.append(re.findall(\"\\d+\", sheet)[0])\n",
    "        # parsing all the sheets to a dictionary\n",
    "        trial_dict = {}\n",
    "        for sheet in sheet_names:\n",
    "            trial_dict[sheet] = excel_file.parse(sheet)\n",
    "        # parsing all the sheets to a dictionary\n",
    "        trial_dict = {}\n",
    "        for sheet in sheet_names:\n",
    "            trial_dict[sheet] = excel_file.parse(sheet)\n",
    "        # shuffling the pandas dataframe\n",
    "        for sheet in sheet_names:\n",
    "            trial_dict[sheet] = excel_file.parse(sheet).sample(frac=1).reset_index(drop=True)\n",
    "        # selecting only half of the dataframes in each sheet, so that there is some randomness\n",
    "        for sheet in sheet_names:\n",
    "            trial_dict[sheet] = excel_file.parse(sheet)[:150]\n",
    "        # adding user_id column for each dataframe\n",
    "        for index, sheet in enumerate(sheet_names):\n",
    "            trial_dict[sheet]['user_id'] = np.repeat(a=np.array([user_id_list[index]]), repeats=len(trial_dict[sheet]))\n",
    "        # combined_df = pd.concat([pd.concat(v) for k,v in trial_dict.items()])\n",
    "        combined_df = pd.concat([v for k, v in trial_dict.items()], axis=0)\n",
    "    return combined_df"
   ]
  },
  {
   "cell_type": "code",
   "execution_count": 14,
   "metadata": {
    "ExecuteTime": {
     "end_time": "2021-03-31T07:34:11.026700Z",
     "start_time": "2021-03-31T07:34:10.994512Z"
    }
   },
   "outputs": [
    {
     "data": {
      "text/html": [
       "<div>\n",
       "<style scoped>\n",
       "    .dataframe tbody tr th:only-of-type {\n",
       "        vertical-align: middle;\n",
       "    }\n",
       "\n",
       "    .dataframe tbody tr th {\n",
       "        vertical-align: top;\n",
       "    }\n",
       "\n",
       "    .dataframe thead th {\n",
       "        text-align: right;\n",
       "    }\n",
       "</style>\n",
       "<table border=\"1\" class=\"dataframe\">\n",
       "  <thead>\n",
       "    <tr style=\"text-align: right;\">\n",
       "      <th></th>\n",
       "      <th>model_name</th>\n",
       "      <th>Category</th>\n",
       "      <th>Views</th>\n",
       "      <th>Likes</th>\n",
       "      <th>Comments</th>\n",
       "      <th>user_id</th>\n",
       "    </tr>\n",
       "  </thead>\n",
       "  <tbody>\n",
       "    <tr>\n",
       "      <th>0</th>\n",
       "      <td>Huawei nova 8 5G</td>\n",
       "      <td>Mobile</td>\n",
       "      <td>418</td>\n",
       "      <td>117</td>\n",
       "      <td>853</td>\n",
       "      <td>1</td>\n",
       "    </tr>\n",
       "    <tr>\n",
       "      <th>1</th>\n",
       "      <td>Huawei nova 8 Pro 5G</td>\n",
       "      <td>Mobile</td>\n",
       "      <td>262</td>\n",
       "      <td>277</td>\n",
       "      <td>248</td>\n",
       "      <td>1</td>\n",
       "    </tr>\n",
       "    <tr>\n",
       "      <th>2</th>\n",
       "      <td>Honor V40</td>\n",
       "      <td>Mobile</td>\n",
       "      <td>434</td>\n",
       "      <td>767</td>\n",
       "      <td>289</td>\n",
       "      <td>1</td>\n",
       "    </tr>\n",
       "    <tr>\n",
       "      <th>3</th>\n",
       "      <td>Oppo Find X3 Neo</td>\n",
       "      <td>Mobile</td>\n",
       "      <td>255</td>\n",
       "      <td>507</td>\n",
       "      <td>161</td>\n",
       "      <td>1</td>\n",
       "    </tr>\n",
       "    <tr>\n",
       "      <th>4</th>\n",
       "      <td>Oppo Find X3</td>\n",
       "      <td>Mobile</td>\n",
       "      <td>700</td>\n",
       "      <td>441</td>\n",
       "      <td>921</td>\n",
       "      <td>1</td>\n",
       "    </tr>\n",
       "    <tr>\n",
       "      <th>...</th>\n",
       "      <td>...</td>\n",
       "      <td>...</td>\n",
       "      <td>...</td>\n",
       "      <td>...</td>\n",
       "      <td>...</td>\n",
       "      <td>...</td>\n",
       "    </tr>\n",
       "    <tr>\n",
       "      <th>145</th>\n",
       "      <td>Huawei Mate 30</td>\n",
       "      <td>Mobile</td>\n",
       "      <td>113</td>\n",
       "      <td>182</td>\n",
       "      <td>191</td>\n",
       "      <td>83</td>\n",
       "    </tr>\n",
       "    <tr>\n",
       "      <th>146</th>\n",
       "      <td>Huawei Mate 30 Pro</td>\n",
       "      <td>Mobile</td>\n",
       "      <td>922</td>\n",
       "      <td>161</td>\n",
       "      <td>157</td>\n",
       "      <td>83</td>\n",
       "    </tr>\n",
       "    <tr>\n",
       "      <th>147</th>\n",
       "      <td>HuaweiÂ Nova 5</td>\n",
       "      <td>Mobile</td>\n",
       "      <td>526</td>\n",
       "      <td>565</td>\n",
       "      <td>613</td>\n",
       "      <td>83</td>\n",
       "    </tr>\n",
       "    <tr>\n",
       "      <th>148</th>\n",
       "      <td>HuaweiÂ Nova 5 Pro</td>\n",
       "      <td>Mobile</td>\n",
       "      <td>529</td>\n",
       "      <td>866</td>\n",
       "      <td>654</td>\n",
       "      <td>83</td>\n",
       "    </tr>\n",
       "    <tr>\n",
       "      <th>149</th>\n",
       "      <td>HuaweiÂ Nova 5i Pro</td>\n",
       "      <td>Mobile</td>\n",
       "      <td>476</td>\n",
       "      <td>643</td>\n",
       "      <td>170</td>\n",
       "      <td>83</td>\n",
       "    </tr>\n",
       "  </tbody>\n",
       "</table>\n",
       "<p>12450 rows × 6 columns</p>\n",
       "</div>"
      ],
      "text/plain": [
       "               model_name Category  Views  Likes  Comments user_id\n",
       "0        Huawei nova 8 5G   Mobile    418    117       853       1\n",
       "1    Huawei nova 8 Pro 5G   Mobile    262    277       248       1\n",
       "2               Honor V40   Mobile    434    767       289       1\n",
       "3        Oppo Find X3 Neo   Mobile    255    507       161       1\n",
       "4            Oppo Find X3   Mobile    700    441       921       1\n",
       "..                    ...      ...    ...    ...       ...     ...\n",
       "145        Huawei Mate 30   Mobile    113    182       191      83\n",
       "146    Huawei Mate 30 Pro   Mobile    922    161       157      83\n",
       "147        HuaweiÂ Nova 5   Mobile    526    565       613      83\n",
       "148    HuaweiÂ Nova 5 Pro   Mobile    529    866       654      83\n",
       "149   HuaweiÂ Nova 5i Pro   Mobile    476    643       170      83\n",
       "\n",
       "[12450 rows x 6 columns]"
      ]
     },
     "execution_count": 14,
     "metadata": {},
     "output_type": "execute_result"
    }
   ],
   "source": [
    "pkl_file = 'mobilecombined_df.pickle'\n",
    "excel_file = 'mobile_data.xlsx'\n",
    "combined_df = get_combined_df(pkl_file, excel_file)\n",
    "combined_df"
   ]
  },
  {
   "cell_type": "code",
   "execution_count": null,
   "metadata": {},
   "outputs": [],
   "source": []
  }
 ],
 "metadata": {
  "kernelspec": {
   "display_name": "Python 3",
   "language": "python",
   "name": "python3"
  },
  "language_info": {
   "codemirror_mode": {
    "name": "ipython",
    "version": 3
   },
   "file_extension": ".py",
   "mimetype": "text/x-python",
   "name": "python",
   "nbconvert_exporter": "python",
   "pygments_lexer": "ipython3",
   "version": "3.6.10"
  },
  "varInspector": {
   "cols": {
    "lenName": 16,
    "lenType": 16,
    "lenVar": 40
   },
   "kernels_config": {
    "python": {
     "delete_cmd_postfix": "",
     "delete_cmd_prefix": "del ",
     "library": "var_list.py",
     "varRefreshCmd": "print(var_dic_list())"
    },
    "r": {
     "delete_cmd_postfix": ") ",
     "delete_cmd_prefix": "rm(",
     "library": "var_list.r",
     "varRefreshCmd": "cat(var_dic_list()) "
    }
   },
   "types_to_exclude": [
    "module",
    "function",
    "builtin_function_or_method",
    "instance",
    "_Feature"
   ],
   "window_display": false
  }
 },
 "nbformat": 4,
 "nbformat_minor": 4
}
